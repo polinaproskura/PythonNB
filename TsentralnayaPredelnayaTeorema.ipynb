{
 "cells": [
  {
   "cell_type": "markdown",
   "metadata": {},
   "source": [
    "Распределение Вейбулла, построение выборки и приближение ее теоретической плотностью."
   ]
  },
  {
   "cell_type": "code",
   "execution_count": 1,
   "metadata": {
    "collapsed": true
   },
   "outputs": [],
   "source": [
    "import numpy"
   ]
  },
  {
   "cell_type": "code",
   "execution_count": 2,
   "metadata": {
    "collapsed": true
   },
   "outputs": [],
   "source": [
    "import matplotlib"
   ]
  },
  {
   "cell_type": "code",
   "execution_count": 3,
   "metadata": {
    "collapsed": true
   },
   "outputs": [],
   "source": [
    "import matplotlib.pyplot as plt"
   ]
  },
  {
   "cell_type": "code",
   "execution_count": 4,
   "metadata": {
    "collapsed": true
   },
   "outputs": [],
   "source": [
    "import random"
   ]
  },
  {
   "cell_type": "code",
   "execution_count": 29,
   "metadata": {
    "collapsed": true
   },
   "outputs": [],
   "source": [
    "import math"
   ]
  },
  {
   "cell_type": "code",
   "execution_count": 150,
   "metadata": {
    "collapsed": false
   },
   "outputs": [],
   "source": [
    "y = []\n",
    "z = []\n",
    "x = range(1000)\n",
    "i = 0\n",
    "while i < 1000:\n",
    "    y.append(random.weibullvariate(100, 1.5)) #выборка\n",
    "    x[i] = x[i] + 0.0\n",
    "    z.append(1.5/100 * pow(x[i]/100, 0.5) * math.exp(-1 * pow(x[i]/100, 1.5))) #теоретическая плотность\n",
    "    i = i + 1\n",
    "plt.xlabel('x')\n",
    "plt.ylabel('y')\n",
    "plt.hist(y, 50, normed = True)\n",
    "plt.plot(x, z)\n",
    "plt.show()"
   ]
  },
  {
   "cell_type": "markdown",
   "metadata": {},
   "source": [
    "Для n = 5."
   ]
  },
  {
   "cell_type": "code",
   "execution_count": 146,
   "metadata": {
    "collapsed": false
   },
   "outputs": [],
   "source": [
    "m = range(1000)\n",
    "N = 5\n",
    "n = []\n",
    "j = 0\n",
    "c = range(1000)\n",
    "while j < 1000:\n",
    "    i = 0\n",
    "    c[j] = 0.0\n",
    "    while i < N:\n",
    "        c[j] = c[j] + random.choice(y) / N #генерация новой выборки\n",
    "        i = i + 1\n",
    "    n.append(math.exp(-0.5*((m[j]-90.2745)/(61.2937 / (N ** 0.5)))**2) / (61.2937 / (N ** 0.5)) / math.sqrt(2*math.pi))\n",
    "    # нормальное распределение\n",
    "    j = j + 1\n",
    "plt.xlabel('x')\n",
    "plt.ylabel('y')\n",
    "plt.plot(m, n)\n",
    "plt.hist(c, 20, normed = True)\n",
    "plt.show()"
   ]
  },
  {
   "cell_type": "markdown",
   "metadata": {},
   "source": [
    "Для n = 10."
   ]
  },
  {
   "cell_type": "code",
   "execution_count": 152,
   "metadata": {
    "collapsed": false
   },
   "outputs": [],
   "source": [
    "j = 0\n",
    "m = range(1000)\n",
    "n = []\n",
    "N = 10\n",
    "c = range(1000)\n",
    "while j < 1000:\n",
    "    i = 0\n",
    "    c[j] = 0.0\n",
    "    while i < N:\n",
    "        c[j] = c[j] + random.choice(y) / N #генерация новой выборки\n",
    "        i = i + 1\n",
    "    n.append(math.exp(-0.5*((m[j]-90.2745)/(61.2937 / (N ** 0.5)))**2) / (61.2937 / (N ** 0.5)) / math.sqrt(2*math.pi))\n",
    "    # нормальное распределение\n",
    "    j = j + 1\n",
    "plt.xlabel('x')\n",
    "plt.ylabel('y')\n",
    "plt.plot(m, n)\n",
    "plt.hist(c, 20, normed = True)\n",
    "plt.show()"
   ]
  },
  {
   "cell_type": "markdown",
   "metadata": {},
   "source": [
    "Для n = 50."
   ]
  },
  {
   "cell_type": "code",
   "execution_count": 154,
   "metadata": {
    "collapsed": false
   },
   "outputs": [],
   "source": [
    "j = 0\n",
    "N = 50\n",
    "m = range(1000)\n",
    "n = []\n",
    "c = range(1000)\n",
    "while j < 1000:\n",
    "    i = 0\n",
    "    c[j] = 0.0\n",
    "    while i < N:\n",
    "        c[j] = c[j] + random.choice(y) / N #генерация новой выборки\n",
    "        i = i + 1\n",
    "    n.append(math.exp(-0.5*((m[j]-90.2745)/(61.2937 / (N ** 0.5)))**2) / (61.2937 / (N ** 0.5)) / math.sqrt(2*math.pi))\n",
    "    # нормальное распределение\n",
    "    j = j + 1\n",
    "plt.xlabel('x')\n",
    "plt.ylabel('y')\n",
    "plt.plot(m, n)\n",
    "plt.hist(c, 20, normed = True)\n",
    "plt.show()"
   ]
  },
  {
   "cell_type": "markdown",
   "metadata": {},
   "source": [
    "Вычисление параметров нормального распределения :\n",
    "    Математическое ожидание Распределения Вейбулла вычисляется по формуле E = l * Г(1 + 1/k), причем в моем примере l = 100, k = 1.5, а гамма - распределение одного параметра (1 + 1/k), есть значение интеграла от 0 до бесконечности x ^ (l - 1) * e ^ (-x) dx, то есть итого, математическое ожидание Е = 90.2745.\n",
    "    Теперь посчитаем стандартное отклонение, которое служило вторым параметром. Диспесия D = l ^ 2 * Г(1 + 2/k) - E ^ 2, где E - математическое ожидание, Г - гамма - распределение, а l и k - параметры исходного распределения. Стандартное отклонение получается путем извлечения корня из дисперсии и равняется 61.2937. При различных n второй параметр при подставлении в функцию необходимо разделить на корень из n в силу свойств дисперсии."
   ]
  },
  {
   "cell_type": "markdown",
   "metadata": {},
   "source": [
    "Выводы :\n",
    "    Чем большую выборку распределения мы берем, тем лучше она аппроксимируется нормальным распределением, что является подтверждением Центральной Предельной Теоремы."
   ]
  }
 ],
 "metadata": {
  "kernelspec": {
   "display_name": "Python 2",
   "language": "python",
   "name": "python2"
  },
  "language_info": {
   "codemirror_mode": {
    "name": "ipython",
    "version": 2
   },
   "file_extension": ".py",
   "mimetype": "text/x-python",
   "name": "python",
   "nbconvert_exporter": "python",
   "pygments_lexer": "ipython2",
   "version": "2.7.11"
  }
 },
 "nbformat": 4,
 "nbformat_minor": 0
}
